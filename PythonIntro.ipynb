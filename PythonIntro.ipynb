{
  "cells": [
    {
      "cell_type": "markdown",
      "metadata": {},
      "source": [
        "# Introduction to Python and how we use computing in scientific research\n",
        "\n",
        "Welcome to the Mathematical and Physical Biology lab at the Francis Crick Institute!\n",
        "\n",
        "We are a group of scientists that are interested in using maths, physics and computers to understand biological questions. \n",
        "\n",
        "This notebook will introduce some basics of computing and how we use it to try and answer scientific questions.\n",
        "\n",
        "# Python\n",
        "\n",
        "Python is a coding language that is very popular for several reasons: it is readable and easy to learn, but can be pretty powerful for doing a lot of computing tasks.\n",
        "\n",
        "# Jupyter notebooks\n",
        "\n",
        "You will notice that this file is called 'PythonIntro.ipynb'. '.ipynb' is the file extension and tells you what the format of the file is: in this case, it is called a Jupyter notebook. This is a type of file which is very useful for running small blocks of code in cells. \n",
        "\n",
        "At the bottom right of the cell, there is some text that tells you what language the cell is written in. This cell is a 'markdown' cell - this is basically just text!\n",
        "\n",
        "The next cell is written in Python. We can use Python to perform calculations."
      ]
    },
    {
      "cell_type": "code",
      "execution_count": 2,
      "metadata": {},
      "outputs": [
        {
          "data": {
            "text/plain": [
              "768"
            ]
          },
          "execution_count": 2,
          "metadata": {},
          "output_type": "execute_result"
        }
      ],
      "source": [
        "3*256"
      ]
    },
    {
      "cell_type": "code",
      "execution_count": null,
      "metadata": {},
      "outputs": [],
      "source": [
        "# If we want to write comments in cells that are written in Python, we put a hashtag before the sentence.\n",
        "# Try looking up the keyboard shortcut for this"
      ]
    },
    {
      "cell_type": "code",
      "execution_count": 3,
      "metadata": {},
      "outputs": [
        {
          "data": {
            "text/plain": [
              "36"
            ]
          },
          "execution_count": 3,
          "metadata": {},
          "output_type": "execute_result"
        }
      ],
      "source": [
        "# We can use Python for algebra by defining variables\n",
        "x = 3\n",
        "y = 4*x\n",
        "x*y"
      ]
    },
    {
      "cell_type": "markdown",
      "metadata": {},
      "source": [
        "Jupyter notebooks will automatically display the output of the final line, but you can also use 'print'."
      ]
    },
    {
      "cell_type": "code",
      "execution_count": 6,
      "metadata": {
        "trusted": true
      },
      "outputs": [
        {
          "name": "stdout",
          "output_type": "stream",
          "text": [
            "3\n",
            "y = 12\n",
            "36 12 81 6.0\n"
          ]
        }
      ],
      "source": [
        "print(x)\n",
        "print(\"y =\",y)\n",
        "print(x*y,y,x**4,y/2)"
      ]
    },
    {
      "cell_type": "markdown",
      "metadata": {},
      "source": [
        "There are different types of objects in Python. We can use the function type() to check what an object is"
      ]
    },
    {
      "cell_type": "code",
      "execution_count": 7,
      "metadata": {},
      "outputs": [
        {
          "data": {
            "text/plain": [
              "int"
            ]
          },
          "execution_count": 7,
          "metadata": {},
          "output_type": "execute_result"
        }
      ],
      "source": [
        "type(x)"
      ]
    },
    {
      "cell_type": "code",
      "execution_count": 6,
      "metadata": {},
      "outputs": [
        {
          "data": {
            "text/plain": [
              "float"
            ]
          },
          "execution_count": 6,
          "metadata": {},
          "output_type": "execute_result"
        }
      ],
      "source": [
        "x = 4.15\n",
        "type(x)"
      ]
    },
    {
      "cell_type": "code",
      "execution_count": 7,
      "metadata": {},
      "outputs": [
        {
          "data": {
            "text/plain": [
              "str"
            ]
          },
          "execution_count": 7,
          "metadata": {},
          "output_type": "execute_result"
        }
      ],
      "source": [
        "phrase = 'Hello World'\n",
        "type(phrase)"
      ]
    },
    {
      "cell_type": "markdown",
      "metadata": {},
      "source": [
        "Try looking up what these different object types are. What other types are there? Can you define some new variables of a different type?"
      ]
    },
    {
      "cell_type": "markdown",
      "metadata": {},
      "source": [
        "# Python libraries or packages"
      ]
    },
    {
      "cell_type": "markdown",
      "metadata": {},
      "source": [
        "'Libraries' or 'packages' are collections of 'modules', which contain lots of useful 'functions'\n",
        "\n",
        "'Functions' are very useful blocks of code which do useful things!\n",
        "\n",
        "Let's look at some examples:"
      ]
    },
    {
      "cell_type": "markdown",
      "metadata": {},
      "source": [
        "# Numpy"
      ]
    },
    {
      "cell_type": "markdown",
      "metadata": {},
      "source": [
        "Numpy is a very common libary for doing maths and scientific calculations.\n",
        "\n",
        "We have to import libraries before we can use them."
      ]
    },
    {
      "cell_type": "code",
      "execution_count": 8,
      "metadata": {},
      "outputs": [],
      "source": [
        "import numpy as np"
      ]
    },
    {
      "cell_type": "markdown",
      "metadata": {},
      "source": [
        "Numpy has lots of inbuilt functions, as well as values, for example, pi."
      ]
    },
    {
      "cell_type": "code",
      "execution_count": 9,
      "metadata": {},
      "outputs": [
        {
          "data": {
            "text/plain": [
              "3.141592653589793"
            ]
          },
          "execution_count": 9,
          "metadata": {},
          "output_type": "execute_result"
        }
      ],
      "source": [
        "np.pi"
      ]
    },
    {
      "cell_type": "code",
      "execution_count": 10,
      "metadata": {},
      "outputs": [
        {
          "data": {
            "text/plain": [
              "4.0"
            ]
          },
          "execution_count": 10,
          "metadata": {},
          "output_type": "execute_result"
        }
      ],
      "source": [
        "np.sqrt(16)"
      ]
    },
    {
      "cell_type": "code",
      "execution_count": 14,
      "metadata": {},
      "outputs": [
        {
          "data": {
            "text/plain": [
              "array([0.78377872, 0.1731313 , 0.15963823, 0.2324117 , 0.65557956,\n",
              "       0.70245006, 0.03931133, 0.76203584, 0.81615471, 0.9109763 ])"
            ]
          },
          "execution_count": 14,
          "metadata": {},
          "output_type": "execute_result"
        }
      ],
      "source": [
        "# we can use numpy to generate random numbers\n",
        "np.random.rand(10) # this means we are using the 'rand' function from the 'random' module.\n",
        "# Try putting different numbers in the bracket. What does it change?"
      ]
    },
    {
      "cell_type": "code",
      "execution_count": null,
      "metadata": {},
      "outputs": [],
      "source": [
        "# Try re-running the cell above. What happens to the numbers that are generated?"
      ]
    },
    {
      "cell_type": "code",
      "execution_count": 18,
      "metadata": {},
      "outputs": [],
      "source": [
        "random_numbers = np.random.rand(20)\n",
        "# what type of an object is random_numbers?\n",
        "random_numbers_list = list(random_numbers)"
      ]
    },
    {
      "cell_type": "code",
      "execution_count": 19,
      "metadata": {},
      "outputs": [
        {
          "name": "stdout",
          "output_type": "stream",
          "text": [
            "<class 'numpy.ndarray'>\n",
            "<class 'list'>\n"
          ]
        }
      ],
      "source": [
        "print(type(random_numbers))\n",
        "print(type(random_numbers_list))"
      ]
    },
    {
      "cell_type": "markdown",
      "metadata": {},
      "source": [
        "# Lists and arrays\n",
        "\n",
        "Lists and arrays are two ways of storing a series of numbers. \n",
        "\n",
        "Numpy has lots of useful methods of creating arrays of uniformly spaced numbers. \n",
        "\n",
        "We use these all the time, to create grids or loops over which to solve equations. "
      ]
    },
    {
      "cell_type": "code",
      "execution_count": 41,
      "metadata": {},
      "outputs": [
        {
          "name": "stdout",
          "output_type": "stream",
          "text": [
            "linspace output = [ 0.  1.  2.  3.  4.  5.  6.  7.  8.  9. 10.]\n",
            "arange output = [ 0  1  2  3  4  5  6  7  8  9 10]\n"
          ]
        }
      ],
      "source": [
        "print(\"linspace output =\",np.linspace(0,10,11))\n",
        "print(\"arange output =\",np.arange(11))"
      ]
    },
    {
      "cell_type": "markdown",
      "metadata": {},
      "source": [
        "Look up the difference between the two functions above (np.linspace and np.arange). \n",
        "\n",
        "What inputs do they take? "
      ]
    },
    {
      "cell_type": "code",
      "execution_count": 32,
      "metadata": {},
      "outputs": [],
      "source": [
        "# Generate an array starting at 4 and going up on 0.5 intervals up until 21.\n",
        "# Put your answer here:"
      ]
    },
    {
      "cell_type": "markdown",
      "metadata": {},
      "source": [
        "We can perform mathematical calculations on arrays.\n"
      ]
    },
    {
      "cell_type": "code",
      "execution_count": 38,
      "metadata": {},
      "outputs": [
        {
          "name": "stdout",
          "output_type": "stream",
          "text": [
            "[ 0.  1.  2.  3.  4.  5.  6.  7.  8.  9. 10.]\n",
            "[  0.   1.   4.   9.  16.  25.  36.  49.  64.  81. 100.]\n"
          ]
        }
      ],
      "source": [
        "x_values = np.linspace(0,10,11)\n",
        "print(x_values)\n",
        "y_values = x_values**2\n",
        "print(y_values)"
      ]
    },
    {
      "cell_type": "markdown",
      "metadata": {},
      "source": [
        "# Loops\n",
        "\n",
        "We can use arrays and lists to iterate using 'loops'."
      ]
    },
    {
      "cell_type": "code",
      "execution_count": 39,
      "metadata": {
        "trusted": true
      },
      "outputs": [
        {
          "name": "stdout",
          "output_type": "stream",
          "text": [
            "0\n",
            "1\n",
            "2\n",
            "3\n",
            "4\n",
            "5\n",
            "6\n",
            "7\n",
            "8\n",
            "9\n"
          ]
        }
      ],
      "source": [
        "for i in range(10):\n",
        "    print(i)"
      ]
    },
    {
      "cell_type": "code",
      "execution_count": 47,
      "metadata": {},
      "outputs": [
        {
          "name": "stdout",
          "output_type": "stream",
          "text": [
            "0\n",
            "1\n",
            "4\n",
            "9\n",
            "16\n",
            "25\n",
            "36\n",
            "49\n",
            "64\n",
            "81\n"
          ]
        }
      ],
      "source": [
        "array = np.arange(10)\n",
        "for element in array:\n",
        "    print(element**2)"
      ]
    },
    {
      "cell_type": "markdown",
      "metadata": {},
      "source": [
        "We can see what elements are in arrays by indexing or slicing."
      ]
    },
    {
      "cell_type": "code",
      "execution_count": 49,
      "metadata": {},
      "outputs": [
        {
          "name": "stdout",
          "output_type": "stream",
          "text": [
            "3.0\n",
            "[6. 7. 8.]\n"
          ]
        }
      ],
      "source": [
        "print(x_values[3])\n",
        "print(x_values[6:9])"
      ]
    },
    {
      "cell_type": "code",
      "execution_count": null,
      "metadata": {},
      "outputs": [],
      "source": [
        "# What happens if we index at -1? What element does this give us?\n",
        "# What elements would x_values[5:] give us? What about x_values[:]?\n",
        "# Answer here:\n",
        "\n",
        "\n"
      ]
    },
    {
      "cell_type": "code",
      "execution_count": 50,
      "metadata": {},
      "outputs": [
        {
          "data": {
            "text/plain": [
              "array([ 0.,  1.,  2.,  3.,  4.,  5.,  6.,  7.,  8.,  9., 10., 11.])"
            ]
          },
          "execution_count": 50,
          "metadata": {},
          "output_type": "execute_result"
        }
      ],
      "source": [
        "x_values_new = np.append(x_values,11)\n",
        "x_values_new\n",
        "\n",
        "# Can you figure out what function np.append performs?\n",
        "# Answer in a new markdown cell below.\n",
        "# What about np.pop?"
      ]
    },
    {
      "cell_type": "markdown",
      "metadata": {
        "vscode": {
          "languageId": "bat"
        }
      },
      "source": [
        "# Plotting graphs\n",
        "\n",
        "Graphs are really useful for visualising data!\n",
        "\n",
        "We will use a library called matplotlib which uses the same plotting apparatus as Matlab, another coding language."
      ]
    },
    {
      "cell_type": "code",
      "execution_count": 51,
      "metadata": {},
      "outputs": [],
      "source": [
        "import matplotlib.pyplot as plt"
      ]
    },
    {
      "cell_type": "code",
      "execution_count": 74,
      "metadata": {},
      "outputs": [
        {
          "data": {
            "text/plain": [
              "<matplotlib.legend.Legend at 0x116d18a10>"
            ]
          },
          "execution_count": 74,
          "metadata": {},
          "output_type": "execute_result"
        },
        {
          "data": {
            "image/png": "[encoded data removed]",
            "text/plain": [
              "<Figure size 600x400 with 1 Axes>"
            ]
          },
          "metadata": {},
          "output_type": "display_data"
        }
      ],
      "source": [
        "plt.subplots(figsize=(6,4)) # this initiates the plot\n",
        "plt.plot(x_values,y_values,color='green',linewidth='3',marker='x',label='$y=x^2$')\n",
        "plt.xlabel('x',fontsize=16)\n",
        "plt.ylabel('y',fontsize=16)\n",
        "plt.xlim(xmin=0)\n",
        "plt.ylim(ymin=0)\n",
        "plt.title('My first graph')\n",
        "plt.legend()"
      ]
    },
    {
      "cell_type": "markdown",
      "metadata": {},
      "source": [
        "This plot only has 10 points. \n",
        "\n",
        "Regenerate x_values and y_values and plot the graph below to make the graph look smoother.\n",
        "\n",
        "Try and make it a different colour, choose a different linewidth, marker, and linestyle. "
      ]
    },
    {
      "cell_type": "code",
      "execution_count": null,
      "metadata": {},
      "outputs": [],
      "source": [
        "# Answer here"
      ]
    },
    {
      "cell_type": "markdown",
      "metadata": {},
      "source": [
        "Sometimes it is useful to plot points onto a graph one by one, through a loop.\n",
        "\n",
        "In this case, it is useful to initiate the figure and axes, and specify which axes to plot on."
      ]
    },
    {
      "cell_type": "code",
      "execution_count": null,
      "metadata": {},
      "outputs": [],
      "source": [
        "fig, ax\n",
        "for i in range(10)"
      ]
    },
    {
      "cell_type": "markdown",
      "metadata": {},
      "source": [
        "This is also useful if we want multiple subplots."
      ]
    },
    {
      "cell_type": "code",
      "execution_count": 85,
      "metadata": {},
      "outputs": [
        {
          "data": {
            "text/plain": [
              "Text(0.5, 0, '$\\\\theta$')"
            ]
          },
          "execution_count": 85,
          "metadata": {},
          "output_type": "execute_result"
        },
        {
          "data": {
            "image/png": "[encoded data removed]",
            "text/plain": [
              "<Figure size 600x600 with 2 Axes>"
            ]
          },
          "metadata": {},
          "output_type": "display_data"
        }
      ],
      "source": [
        "\n",
        "theta_values = np.linspace(0, 2*np.pi, 180)\n",
        "sin_values = np.sin(theta_values)\n",
        "cos_values = np.cos(theta_values)\n",
        "\n",
        "\n",
        "fig, (ax1,ax2) = plt.subplots(2,figsize=(6,6))\n",
        "ax1.plot(theta_values,sin_values)\n",
        "ax2.plot(theta_values,cos_values)\n",
        "ax2.set_ylabel('$\\\\cos(\\\\theta)$',fontsize='16')\n",
        "ax1.set_ylabel('$\\\\sin(\\\\theta)$',fontsize='16')\n",
        "ax2.set_xlabel('$\\\\theta$',fontsize='16')"
      ]
    },
    {
      "cell_type": "markdown",
      "metadata": {},
      "source": [
        "Can you make the colours of my sin and cos graphs above different, and add a legend to each graph?\n",
        "\n",
        "Can you add a title to the plot?\n",
        "\n",
        "Can you add units to the axis labels?\n",
        "\n",
        "What happens when you take away the \\\\ and $$ in the x label, i.e.\n",
        "\n",
        "ax2.set_xlabel('theta',fontsize='16')\n",
        "\n",
        "? Can you guess what the \\\\ and $ are doing?\n",
        "\n",
        "Hint: this is another coding language called LaTeX. Try looking it up!\n"
      ]
    },
    {
      "cell_type": "code",
      "execution_count": null,
      "metadata": {},
      "outputs": [],
      "source": [
        "# Answer here"
      ]
    },
    {
      "cell_type": "markdown",
      "metadata": {},
      "source": [
        "# Functions\n",
        "\n",
        "We can define our own functions to perform different calculations. \n",
        "\n",
        "e.g. \n",
        "\n",
        "$f(x) = x^2 + 4x + 6$\n",
        "\n"
      ]
    },
    {
      "cell_type": "code",
      "execution_count": 86,
      "metadata": {},
      "outputs": [],
      "source": [
        "def find_f(x):\n",
        "    return x**2 + 4*x + 6"
      ]
    },
    {
      "cell_type": "code",
      "execution_count": 88,
      "metadata": {},
      "outputs": [
        {
          "name": "stdout",
          "output_type": "stream",
          "text": [
            "18\n",
            "[  6.  11.  18.  27.  38.  51.  66.  83. 102. 123. 146.]\n"
          ]
        }
      ],
      "source": [
        "print(find_f(2))\n",
        "print(find_f(x_values))"
      ]
    },
    {
      "cell_type": "markdown",
      "metadata": {},
      "source": [
        "Can you remember the quadratic formula? Write it below in a markdown cell.\n",
        "\n",
        "Try writing a function to solve a quadratic equation using the quadratic formula. Test it on a solution you can solve analytically too."
      ]
    },
    {
      "cell_type": "markdown",
      "metadata": {},
      "source": [
        "# Solving differential equations: for morphogens"
      ]
    },
    {
      "cell_type": "markdown",
      "metadata": {},
      "source": [
        "In the lab, we work on molecules called morphogens. These are molecules that are produced in developing embryos that diffuse and undergo reactions across a tissue. \n",
        "\n",
        "These molecules are taken up by cells. The cells measure the concentration and then differentiate (or specialise) into different types of cells.\n",
        "\n",
        "A simple model of this is called the French Flag Model. \n",
        "\n",
        "Try looking it up!\n",
        "\n",
        "\n",
        "We are going to write a code that numerically solves the reaction-diffusion equation describing the motion of morphogen molecules:\n",
        "\n",
        "# $ \\frac{\\partial C(x,t)}{\\partial t} = d \\frac{\\partial^2 C(x,t)}{\\partial x^2} - k C(x,t)$\n",
        "\n",
        "This function will accept inputs of the morphogen kinetic parameters (diffusivity and degradation rate), and numerically find the morphogen profile, $C(x,t)$, using an algorithm called the \"forward Euler method\". It will output the morphogen profile at steady state.\n",
        "\n",
        "Look up and write a definition for diffusivity and degradation rate and write your answer below.\n",
        "\n",
        "\n"
      ]
    },
    {
      "cell_type": "markdown",
      "metadata": {},
      "source": [
        "Answer here:"
      ]
    },
    {
      "cell_type": "markdown",
      "metadata": {},
      "source": [
        "Since this is a second order partial differential equation (PDE), we need a pair of initial/boundary conditions to solve the problem.\n",
        "\n",
        "We choose to define that the concentration is constant at $x=0$:\n",
        "\n",
        "# $C(0,t) = C_0$,\n",
        "\n",
        "and that there is a no flux boundary condition at the other edge of the tissue $x = L$:\n",
        "\n",
        "# $\\frac{\\partial C(x,t)}{\\partial x} \\big|_{x=L} = 0$.\n",
        "\n",
        "Defining our solver as a separate function means that we can call it with different input parameters to solve the morphogen system under different conditions.\n"
      ]
    },
    {
      "cell_type": "code",
      "execution_count": 95,
      "metadata": {},
      "outputs": [],
      "source": [
        "# Define a function to solve the reaction-diffusion equation\n",
        "# The boundary conditions are:\n",
        "#    1) at x = 0, C = C_0;\n",
        "#    2) at x = L, dC/dx = 0\n",
        "def Solve(d, k, c0, L, Nx, tMax, thresholdSS):\n",
        "    # d -           Diffusion coefficient\n",
        "    # k -           Degradation rate\n",
        "    # c0 -          Pinned concentration at x = 0\n",
        "    # L -           Tissue size\n",
        "    # Nx -          Number of spatial (x) gridpoints\n",
        "    # tMax -        Maximum time\n",
        "    # thresholdSS - Maximum fractional change in concentration per unit time below which the code exits as it has reached steady state (SS)\n",
        "\n",
        "    # Calculate spatial variables\n",
        "    dx = L / (Nx - 1) # Spatial grid spacing\n",
        "\n",
        "    # Define temporal variables\n",
        "    dt = 1 / (k + ((4 * d) / (dx ** 2))) # Time step, from the von Neumann stability condition\n",
        "    Nt = round((tMax / dt) + 1) # The maximum number of time points\n",
        "    tCount = 0 # The current timestep\n",
        "\n",
        "    # Non-dimensionalise variables\n",
        "    d *= dt / (dx ** 2)\n",
        "    k *= dt\n",
        "\n",
        "    # Initialise buffer array to store the concentrations at the previous timestep\n",
        "    concPrev = np.zeros(Nx)\n",
        "    concPrev[0] = c0\n",
        "\n",
        "    # Define flag to indicate when system has reached steady state (SS)\n",
        "    flagSS = 0\n",
        "\n",
        "    # Loop over time until the maximum number of time points or until the system reaches steady state (SS)\n",
        "    while flagSS == 0 and tCount < Nt:\n",
        "\n",
        "        # Update the timestep counter\n",
        "        tCount += 1\n",
        "\n",
        "        # Initialise array to store current concentration vector\n",
        "        concCurr = np.zeros(Nx)\n",
        "\n",
        "        # Update the equation\n",
        "        concCurr[0] = c0\n",
        "        concCurr[1:Nx - 1] = ((1 - k) * concPrev[1:Nx - 1]) + (d * (concPrev[2:Nx] + concPrev[0:Nx - 2] - (2 * concPrev[1: Nx - 1])))\n",
        "        concCurr[Nx - 1] = ((1 - k) * concPrev[Nx - 1]) + (2 * d * (concPrev[Nx - 2] - concPrev[Nx - 1]))\n",
        "\n",
        "        # Check steady state condition\n",
        "        delC = sum(abs(concCurr - concPrev)) / (sum(concCurr) * dt)\n",
        "        if delC < thresholdSS:\n",
        "            flagSS = 1\n",
        "            print(\"Steady state reached at t =\", tCount * dt, \"s\")\n",
        "\n",
        "        # Re-initialise the previous concentration vector ready for the next loop\n",
        "        concPrev = np.array(concCurr)\n",
        "\n",
        "    # Output the final concentration\n",
        "    return concCurr"
      ]
    },
    {
      "cell_type": "markdown",
      "metadata": {},
      "source": [
        "In order to visualise our results, we also want to plot the morphogen profiles that are outputted by our solver."
      ]
    },
    {
      "cell_type": "code",
      "execution_count": 97,
      "metadata": {},
      "outputs": [],
      "source": [
        "# We are also going to set some global plotting parameters that make our plots look pretty\n",
        "plt.rcParams['figure.figsize'] = [10, 6]   # Controls default figure size (in inches)\n",
        "SMALL_SIZE = 20\n",
        "MEDIUM_SIZE = 22\n",
        "BIGGER_SIZE = 24\n",
        "plt.rc('font', size = SMALL_SIZE)          # Controls default text sizes\n",
        "plt.rc('axes', titlesize = SMALL_SIZE)     # Fontsize of the axes title\n",
        "plt.rc('axes', labelsize = MEDIUM_SIZE)    # Fontsize of the x and y labels\n",
        "plt.rc('xtick', labelsize = SMALL_SIZE)    # Fontsize of the tick labels\n",
        "plt.rc('ytick', labelsize = SMALL_SIZE)    # Fontsize of the tick labels\n",
        "plt.rc('legend', fontsize = SMALL_SIZE)    # Legend fontsize\n",
        "plt.rc('figure', titlesize = BIGGER_SIZE)  # Fontsize of the figure title"
      ]
    },
    {
      "cell_type": "markdown",
      "metadata": {},
      "source": [
        "What do you think is the difference between global and local parameters?\n",
        "\n",
        "Answer here:\n",
        "\n",
        "\n"
      ]
    },
    {
      "cell_type": "markdown",
      "metadata": {},
      "source": [
        "\n",
        "Below we define a plotting function that accepts our position (x) and concentration (y) data and returns a plot.\n",
        "\n",
        "It also takes some extra default arguments that allow you to customise your plots."
      ]
    },
    {
      "cell_type": "code",
      "execution_count": 94,
      "metadata": {},
      "outputs": [],
      "source": [
        "# Define function to plot results\n",
        "def plot(fig, ax, x, y, L, xLabel = None, yLabel = None, colour='black', figwidth = 10, figlength = 6, linewidth = 4, linestyle='-', linelabel = None):\n",
        "    fig.set_size_inches(figwidth, figlength, forward = True)\n",
        "    ax.plot(x, y, linewidth = linewidth, color = colour, linestyle = linestyle,label=linelabel)\n",
        "    ax.set_xlabel(xLabel)\n",
        "    ax.set_ylabel(yLabel)\n",
        "    ax.set_xlim([0, L])\n",
        "    ax.set_ylim([0,None])\n",
        "    if linelabel != None:\n",
        "        ax.legend()\n",
        "    return fig, ax"
      ]
    },
    {
      "cell_type": "markdown",
      "metadata": {},
      "source": [
        "In order to solve our morphogen system we first need to define a set of morphogen kinetic parameters to use.\n",
        "\n",
        "Here we define some values to describe the motion of the morphogen molecules and some that describe the size of the system and the time over which we are going to solve our equations.\n",
        "\n",
        "Test out what happens when you solve the morphogen system with different values of these parameters!"
      ]
    },
    {
      "cell_type": "code",
      "execution_count": 99,
      "metadata": {},
      "outputs": [],
      "source": [
        "# Define system parameters\n",
        "d = 5              # Diffusion coefficient\n",
        "k = 0.01           # Degradation rate\n",
        "c0 = 5000          # Pinned concentration at x = 0\n",
        "L = 100            # Tissue size\n",
        "\n",
        "# Define simulation parameters\n",
        "Nx = 201           # Number of spatial (x) gridpoints\n",
        "tMax = 100000      # Maximum time\n",
        "thresholdSS = 1e-8 # Maximum fractional change in concentration per unit time below which the code exits as it has reached steady state"
      ]
    },
    {
      "cell_type": "markdown",
      "metadata": {},
      "source": [
        "Finally, before we solve our system, we are going to define an analytical formula that we expect to exhibit the same behaviour as our numerical data.\n",
        "\n",
        "The steady state solution of the reaction-diffusion defined above can be approximated in the limit of large tissue size ($L>>\\lambda$):\n",
        "\n",
        "# $ C(x) = C_0 \\ e^{-x/\\lambda}$\n",
        "\n",
        "where $\\lambda=\\sqrt{d/k}$ is the decay length of the morphogen profile.\n",
        "\n",
        "Using the functions we defined above, we can now solve the morphogen system and compare the numerical solution to the analytical one!"
      ]
    },
    {
      "cell_type": "code",
      "execution_count": 98,
      "metadata": {},
      "outputs": [
        {
          "name": "stdout",
          "output_type": "stream",
          "text": [
            "Steady state reached at t = 1157.4803149606298 s\n"
          ]
        },
        {
          "data": {
            "image/png": "[encoded data removed]",
            "text/plain": [
              "<Figure size 1000x600 with 1 Axes>"
            ]
          },
          "metadata": {},
          "output_type": "display_data"
        }
      ],
      "source": [
        "# Calculate decay length\n",
        "lam = np.sqrt(d / k)\n",
        "\n",
        "# Define x-axis for plotting\n",
        "x = np.linspace(0, L, Nx)\n",
        "\n",
        "# Calculate the steady state concentration\n",
        "conc = Solve(d, k, c0, L, Nx, tMax, thresholdSS)\n",
        "\n",
        "# Store analytical concentrations\n",
        "concAna = [c0 * np.exp(-x[i] / lam) for i in range(Nx)]\n",
        "\n",
        "# Plot results\n",
        "fig, ax = plt.subplots() # Initiate the figure and axes\n",
        "plot(fig, ax, x, conc, L, xLabel = 'Position/$\\\\mu m$', yLabel = 'Conc/$mol \\\\mu m^{-3}$', colour = 'royalblue', linelabel = 'Numerical')\n",
        "plot(fig, ax, x, concAna, L, xLabel = 'Position/$\\\\mu m$', yLabel = 'Conc/$mol \\\\mu m^{-3}$', colour = 'coral', linestyle = '--', linelabel = 'Analytical');"
      ]
    },
    {
      "cell_type": "markdown",
      "metadata": {},
      "source": []
    },
    {
      "cell_type": "markdown",
      "metadata": {},
      "source": [
        "How does the graph change when we multiple the diffusivity by 2?\n",
        "\n",
        "Regenerate the graph and check.\n",
        "\n",
        "What about when we multiple the degradation rate by 2?\n",
        "\n",
        "What about both?"
      ]
    }
  ],
  "metadata": {
    "kernelspec": {
      "display_name": "env_python312",
      "language": "python",
      "name": "python3"
    },
    "language_info": {
      "codemirror_mode": {
        "name": "ipython",
        "version": 3
      },
      "file_extension": ".py",
      "mimetype": "text/x-python",
      "name": "python",
      "nbconvert_exporter": "python",
      "pygments_lexer": "ipython3",
      "version": "3.12.3"
    }
  },
  "nbformat": 4,
  "nbformat_minor": 4
}
